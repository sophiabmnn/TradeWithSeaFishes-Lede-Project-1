{
 "cells": [
  {
   "cell_type": "markdown",
   "id": "5c59b10d-62a1-43af-90ee-adf4212b7322",
   "metadata": {},
   "source": [
    "###Project 1: Analyzing German Trade Data with regard to Live Sea Fishs\n",
    "\n",
    "The aim of my analysis is to research how the trade with live ornamental marine fishes has changed within the last years in Germany: How did the trade volume develop? From which countries are thoses fishes imported? With this, I would like to find out whether there are fewer wild cashes than in earlier years."
   ]
  },
  {
   "cell_type": "markdown",
   "id": "df12f744-1896-49d2-a11e-22561159edee",
   "metadata": {},
   "source": [
    "STEP 1: IMPORT ALL NECESSARY PACKAGES"
   ]
  },
  {
   "cell_type": "code",
   "execution_count": 1,
   "id": "117935b7-fa5f-47d8-b430-78989965e2fd",
   "metadata": {},
   "outputs": [],
   "source": [
    "import requests\n",
    "import pandas as pd\n",
    "from dotenv import load_dotenv\n",
    "load_dotenv()\n",
    "import os\n",
    "import xmltodict\n",
    "from io import StringIO\n",
    "import numpy as np\n",
    "from deep_translator import GoogleTranslator"
   ]
  },
  {
   "cell_type": "markdown",
   "id": "591078d5-c166-49a0-8c82-cf16c0c81559",
   "metadata": {},
   "source": [
    "STEP 2: SET UP AN API-ACCOUNT \n",
    "\n",
    "I am retrieving trade data from the German Statistical Office. For this, I'll need an API Key to authorize myself."
   ]
  },
  {
   "cell_type": "code",
   "execution_count": 2,
   "id": "b2cdd86d-0c8f-4708-90ca-6235cb13ca89",
   "metadata": {},
   "outputs": [],
   "source": [
    "BASE_URL = 'https://www-genesis.destatis.de/genesisWS/rest/2020/'\n",
    "TOKEN = os.getenv('api_key')"
   ]
  },
  {
   "cell_type": "code",
   "execution_count": 3,
   "id": "b7523b0a-07c0-40a3-ad14-fafcf769eb71",
   "metadata": {},
   "outputs": [],
   "source": [
    "headers = {\n",
    "'Content-Type': 'application/x-www-form-urlencoded',\n",
    "'username': TOKEN,\n",
    "'password': \"\"\n",
    "}\n",
    "langPref = \"de\""
   ]
  },
  {
   "cell_type": "code",
   "execution_count": 4,
   "id": "5e82daac-3307-4cde-b715-7f7e1a04c87b",
   "metadata": {},
   "outputs": [
    {
     "data": {
      "text/plain": [
       "'{\"Status\":\"Sie wurden erfolgreich an- und abgemeldet! Bei mehr als 3 parallelen Requests wurden länger als 15 Minuten laufende Requests beendet.\",\"Username\"'"
      ]
     },
     "execution_count": 4,
     "metadata": {},
     "output_type": "execute_result"
    }
   ],
   "source": [
    "hello = requests.post(BASE_URL + 'helloworld/logincheck',\n",
    "headers = headers,\n",
    "data = {\n",
    "'language': langPref\n",
    "})\n",
    "hello.text[:-36]"
   ]
  },
  {
   "cell_type": "markdown",
   "id": "db93a2a1-d5b3-4256-bce8-aba152466c7a",
   "metadata": {},
   "source": [
    "STEP 3: DOWNLOAD THE FIRST DATASET VIA THE API\n",
    "\n",
    "Name of dataset: \"Exports and imports (foreign trade): Germany, years, list of goods (8-digit\" (\"Aus- und Einfuhr (Außenhandel): Deutschland, Jahre, Warenverzeichnis (8-Steller)\")\n",
    "\n",
    "Internal code according to website: 51000-13.\n",
    "\n",
    "As it is too big, I have to retrieve it in two steps. The first request gives me the export code for the second request (\"Exportkennung\")."
   ]
  },
  {
   "cell_type": "code",
   "execution_count": null,
   "id": "806cb63f-fce6-4409-9112-80209f276e88",
   "metadata": {},
   "outputs": [],
   "source": [
    "#only run once\n",
    "#url = f\"https://www-genesis.destatis.de/genesisWS/web/ExportService_2010?method=TabellenExport&kennung={TOKEN}&namen=51000-0013&bereich=Alle&format=csv&strukturinformation=false&komprimieren=false&transponieren=false&startjahr=2010&endjahr=2012&zeitscheiben=&regionalmerkmal=&regionalschluessel=&sachmerkmal=&sachschluessel=&sachmerkmal2=&sachschluessel2=&sachmerkmal3=&sachschluessel3=&stand=&auftrag=true&sprache=de\"\n",
    "#response = requests.get(url)\n",
    "#response.text"
   ]
  },
  {
   "cell_type": "code",
   "execution_count": 5,
   "id": "eb6929f1-17cf-46fa-9abd-a2b04adaab9b",
   "metadata": {},
   "outputs": [],
   "source": [
    "url = f\"https://www-genesis.destatis.de/genesisWS/web/ExportService_2010?method=ErgebnisExport&kennung={TOKEN}&name=51000-0013_109613960&bereich=Meine&format=csv&komprimieren=false&sprache=de\"\n",
    "response = requests.get(url)\n",
    "json_data = xmltodict.parse(response.content)"
   ]
  },
  {
   "cell_type": "markdown",
   "id": "1c89e04e-81f1-47e6-bf08-13f2adcc0f17",
   "metadata": {},
   "source": [
    "STEP 4: CREATING A DATAFRAME OUT OF THE RESPONSE\n",
    "\n",
    "The response gives us a JSON with embedded CSV-code. Therefore, I'm first filtering for the CSV code and then creating a dataframe out of it."
   ]
  },
  {
   "cell_type": "code",
   "execution_count": 6,
   "id": "bb3591bf-7011-43b3-b0fa-d372c5a7c0d1",
   "metadata": {},
   "outputs": [],
   "source": [
    "table_data = json_data['soapenv:Envelope']['soapenv:Body']['ErgebnisExportResponse']['ErgebnisExportReturn']['tabelle']['tabellenDaten']"
   ]
  },
  {
   "cell_type": "code",
   "execution_count": 7,
   "id": "2ca82415-e841-48a9-830d-f6362970793b",
   "metadata": {},
   "outputs": [],
   "source": [
    "df = pd.read_csv(StringIO(table_data), sep=\";\", skiprows=5)"
   ]
  },
  {
   "cell_type": "markdown",
   "id": "19f5f706-694d-4af8-9d1b-59f9efcbb45a",
   "metadata": {},
   "source": [
    "STEP 4: TIDY THE DATASET UP"
   ]
  },
  {
   "cell_type": "code",
   "execution_count": 8,
   "id": "f274a719-f3a3-42d2-97ab-fcb7835f8d67",
   "metadata": {},
   "outputs": [],
   "source": [
    "#Rename Variables\n",
    "df.rename(columns={'Unnamed: 0': 'Code', 'Unnamed: 1': 'Product', 'Ausfuhr: Besondere Maßeinheit': 'Export (number)', 'Ausfuhr: Gewicht': 'Export: Weight (t)', 'Ausfuhr: Wert': 'Export Value (Tsd. EUR)', 'Ausfuhr: Wert (US-Dollar)':'Export Value (Tsd. USD)','Einfuhr: Besondere Maßeinheit': 'Import (number)', 'Einfuhr: Gewicht': 'Import Weight (t)','Einfuhr: Wert': 'Import Value (Tsd. EUR)', 'Einfuhr: Wert (US-Dollar)':'Import Value (Tsd. USD)' },inplace=True)"
   ]
  },
  {
   "cell_type": "code",
   "execution_count": 9,
   "id": "8b42f2c8-6122-4552-998b-b34730dcae6a",
   "metadata": {},
   "outputs": [],
   "source": [
    "#Drop second row (which has no values)\n",
    "df.drop(0, inplace=True)"
   ]
  },
  {
   "cell_type": "code",
   "execution_count": 10,
   "id": "8f62e43e-d4de-4d4e-b09b-5888a0ae3f60",
   "metadata": {},
   "outputs": [],
   "source": [
    "#Drop last three rows (which have no values)\n",
    "end_index = df.query(\"Code == '__________'\").index[0]\n",
    "df = df.iloc[:end_index]\n",
    "df = df[df[\"Code\"] != \"__________\"]"
   ]
  },
  {
   "cell_type": "code",
   "execution_count": 11,
   "id": "0fabaea8-da1d-419b-842f-bff0703662a6",
   "metadata": {},
   "outputs": [],
   "source": [
    "#Filter for products/years I need\n",
    "rows = ['WA03011900','2011', '2012', '2013', '2014','2015','2016','2017','2018','2019','2020','2021','2022','2023','2024' '2025']\n",
    "df = df[df['Code'].isin(rows)]"
   ]
  },
  {
   "cell_type": "code",
   "execution_count": 12,
   "id": "1afc7f82-6e0e-4173-9c83-bf47d658e892",
   "metadata": {},
   "outputs": [
    {
     "name": "stderr",
     "output_type": "stream",
     "text": [
      "/var/folders/z0/7y9h036n67l9188jq204ym500000gn/T/ipykernel_2638/1045686315.py:4: FutureWarning: A value is trying to be set on a copy of a DataFrame or Series through chained assignment using an inplace method.\n",
      "The behavior will change in pandas 3.0. This inplace method will never work because the intermediate object on which we are setting values always behaves as a copy.\n",
      "\n",
      "For example, when doing 'df[col].method(value, inplace=True)', try using 'df.method({col: value}, inplace=True)' or df[col] = df[col].method(value) instead, to perform the operation inplace on the original object.\n",
      "\n",
      "\n",
      "  df['Year'].replace(['NaN'], np.nan, inplace=True)\n"
     ]
    }
   ],
   "source": [
    "#Create a separate variable \"year\"\n",
    "df['Year'] = df['Code']\n",
    "df['Year'] = df['Year'].str.replace(r\"^WA.*$\",'NaN',regex=True)\n",
    "df['Year'].replace(['NaN'], np.nan, inplace=True)\n",
    "df['Year'] = df['Year'].ffill()"
   ]
  },
  {
   "cell_type": "code",
   "execution_count": 13,
   "id": "f4ec94fd-ed40-4751-9830-b70524ba7913",
   "metadata": {},
   "outputs": [],
   "source": [
    "#Get rid of the rows with only years in them\n",
    "rows = ['WA03011900']\n",
    "df = df[df['Code'].isin(rows)]"
   ]
  },
  {
   "cell_type": "code",
   "execution_count": 14,
   "id": "a4365e52-adaa-4862-8513-75c890e1846a",
   "metadata": {},
   "outputs": [],
   "source": [
    "#Replace Numbers in European format to US format\n",
    "df['Import Weight (t)'] = df['Import Weight (t)'].replace(r'\\,', '.', regex=True)\n",
    "df['Export: Weight (t)'] = df['Export: Weight (t)'].replace(r'\\,', '.', regex=True)"
   ]
  },
  {
   "cell_type": "code",
   "execution_count": 15,
   "id": "22a0a109-1c54-4442-8acf-a79cddad3494",
   "metadata": {},
   "outputs": [],
   "source": [
    "#Filter for the last 10 years (as these are the ones I am interested in)\n",
    "years = ['2013','2014','2015','2016','2017','2018','2019','2020','2021','2022','2023']\n",
    "df = df[df['Year'].isin(years)]"
   ]
  },
  {
   "cell_type": "code",
   "execution_count": 16,
   "id": "57535adf-5b13-4e66-aa77-1c6294a04d37",
   "metadata": {},
   "outputs": [],
   "source": [
    "#Get rid of the last row to get data until 2023 (to be comparable with other datasets only reaching until 2023)\n",
    "df.drop(186578, inplace=True)"
   ]
  },
  {
   "cell_type": "code",
   "execution_count": 17,
   "id": "418476bb-3593-4278-8e7d-b845d0fec90e",
   "metadata": {},
   "outputs": [],
   "source": [
    "#Keep only the variables I want to use for my analysis\n",
    "df = df[['Year','Import Value (Tsd. USD)','Import Weight (t)']]"
   ]
  },
  {
   "cell_type": "markdown",
   "id": "c6487641-f968-49b3-8249-0f8bc6f9e50a",
   "metadata": {},
   "source": [
    "STEP 5: SAVE MY FIRST DATASET AS CSV"
   ]
  },
  {
   "cell_type": "code",
   "execution_count": 18,
   "id": "cbbc1b85-0d6f-4f84-9546-7a4cbb440538",
   "metadata": {},
   "outputs": [],
   "source": [
    "df.to_csv('fishes.csv', index=False)"
   ]
  },
  {
   "cell_type": "markdown",
   "id": "fdcfe642-a49b-43c5-9a9d-570a1bfd6d4b",
   "metadata": {},
   "source": [
    "STEP 6: DOWNLOAD THE SECOND DATASET VIA API\n",
    "\n",
    "Name of dataset: \"Exports and imports (foreign trade): Germany, years, country, list of goods (8-digit\" (\"Aus- und Einfuhr (Außenhandel): Deutschland, Jahre, Land. Warenverzeichnis (8-Steller)\") \n",
    "\n",
    "Internal code according to website: 51000-15."
   ]
  },
  {
   "cell_type": "code",
   "execution_count": 19,
   "id": "a9a291a7-dc04-4174-8c86-d167707d1136",
   "metadata": {
    "scrolled": true
   },
   "outputs": [],
   "source": [
    "url = f\"https://www-genesis.destatis.de/genesisWS/web/ExportService_2010?method=TabellenExport&kennung={TOKEN}&namen=51000-0015&bereich=Alle&format=csv&strukturinformation=false&komprimieren=false&transponieren=false&startjahr=2013&endjahr=2024&zeitscheiben=&regionalmerkmal=STLAH&regionalschluessel=&sachmerkmal=WAM8&sachschluessel=WA03011900&sachmerkmal2=&sachschluessel2=&sachmerkmal3=&sachschluessel3=&stand=&auftrag=true&sprache=de\"\n",
    "response = requests.get(url)"
   ]
  },
  {
   "cell_type": "code",
   "execution_count": 20,
   "id": "564869b0-5fd7-4473-b2e7-69ab18a6aece",
   "metadata": {
    "scrolled": true
   },
   "outputs": [],
   "source": [
    "json_data2 = xmltodict.parse(response.content)\n",
    "table_data2 = json_data2['soapenv:Envelope']['soapenv:Body']['TabellenExportResponse']['TabellenExportReturn']['tabellen']['tabellen']['tabellenDaten']"
   ]
  },
  {
   "cell_type": "code",
   "execution_count": 21,
   "id": "9d560975-2f20-4cad-ae45-901a0a9f0981",
   "metadata": {},
   "outputs": [],
   "source": [
    "df2 = pd.read_csv(StringIO(table_data2), sep=\";\", skiprows=5)"
   ]
  },
  {
   "cell_type": "markdown",
   "id": "cb3eb68b-f770-44a7-aba2-13324bcea524",
   "metadata": {},
   "source": [
    "STEP 7: TIDY THE DATASET UP"
   ]
  },
  {
   "cell_type": "code",
   "execution_count": 22,
   "id": "615991d0-c623-4866-828c-6f4938e1664c",
   "metadata": {},
   "outputs": [],
   "source": [
    "#Rename Variables\n",
    "df2.rename(columns={'Unnamed: 0': 'Year_Country', 'Unnamed: 1': 'Code', 'Unnamed: 2': 'Product', 'Ausfuhr: Besondere Maßeinheit': 'Export (number)', 'Ausfuhr: Gewicht': 'Export: Weight (t)', 'Ausfuhr: Wert': 'Export Value (Tsd. EUR)', 'Ausfuhr: Wert (US-Dollar)':'Export Value (Tsd. USD)','Einfuhr: Besondere Maßeinheit': 'Import (number)', 'Einfuhr: Gewicht': 'Import Weight (t)','Einfuhr: Wert': 'Import Value (Tsd. EUR)', 'Einfuhr: Wert (US-Dollar)':'Import Value (Tsd. USD)' },inplace=True)"
   ]
  },
  {
   "cell_type": "code",
   "execution_count": 23,
   "id": "8001fc2e-c096-4b86-b213-6c8676739c5d",
   "metadata": {},
   "outputs": [],
   "source": [
    "#Drop second row (which has no values)\n",
    "df2.drop(0, inplace=True)"
   ]
  },
  {
   "cell_type": "code",
   "execution_count": 24,
   "id": "7eccf39e-9403-4f96-9cb2-a252b744cf61",
   "metadata": {},
   "outputs": [],
   "source": [
    "#Drop last three rows (which have no values)\n",
    "end_index = df2.query(\"Year_Country == '__________'\").index[0]\n",
    "df2 = df2.iloc[:end_index]\n",
    "df2 = df2[df2[\"Year_Country\"] != \"__________\"]"
   ]
  },
  {
   "cell_type": "code",
   "execution_count": 25,
   "id": "beddac9e-b704-429c-b165-c4c915339296",
   "metadata": {},
   "outputs": [
    {
     "name": "stderr",
     "output_type": "stream",
     "text": [
      "/var/folders/z0/7y9h036n67l9188jq204ym500000gn/T/ipykernel_2638/908341353.py:4: FutureWarning: A value is trying to be set on a copy of a DataFrame or Series through chained assignment using an inplace method.\n",
      "The behavior will change in pandas 3.0. This inplace method will never work because the intermediate object on which we are setting values always behaves as a copy.\n",
      "\n",
      "For example, when doing 'df[col].method(value, inplace=True)', try using 'df.method({col: value}, inplace=True)' or df[col] = df[col].method(value) instead, to perform the operation inplace on the original object.\n",
      "\n",
      "\n",
      "  df2['Year'].replace(['NaN'], np.nan, inplace=True)\n"
     ]
    }
   ],
   "source": [
    "#Create a separate variable \"year\"\n",
    "df2['Year'] = df2['Year_Country']\n",
    "df2['Year'] = df2['Year'].str.replace(r\"^(?!20).*$\",'NaN',regex=True)\n",
    "df2['Year'].replace(['NaN'], np.nan, inplace=True)\n",
    "df2['Year'] = df2['Year'].ffill()"
   ]
  },
  {
   "cell_type": "code",
   "execution_count": 26,
   "id": "369a450b-dceb-4b83-aea7-d712f9950654",
   "metadata": {},
   "outputs": [],
   "source": [
    "#Get rid of more rows (the ones with only years in it)\n",
    "years = ['2013','2014','2015','2016','2017','2018','2019','2020','2021','2022','2023','2024']\n",
    "df2 = df2[~df2['Year_Country'].isin(years)]\n",
    "df2.rename(columns={'Year_Country':'Country'},inplace=True)"
   ]
  },
  {
   "cell_type": "code",
   "execution_count": 27,
   "id": "8ff20f92-41c6-4a94-ba62-3b03689ece30",
   "metadata": {},
   "outputs": [],
   "source": [
    "#Replace Numbers in European format to US format\n",
    "df2['Import Weight (t)'] = df2['Import Weight (t)'].replace(r'\\,', '.', regex=True)\n",
    "df2['Export: Weight (t)'] = df2['Export: Weight (t)'].replace(r'\\,', '.', regex=True)"
   ]
  },
  {
   "cell_type": "code",
   "execution_count": 28,
   "id": "47d3ab6a-a8f3-489b-8402-300e6643c3ec",
   "metadata": {},
   "outputs": [
    {
     "name": "stderr",
     "output_type": "stream",
     "text": [
      "/var/folders/z0/7y9h036n67l9188jq204ym500000gn/T/ipykernel_2638/3540600199.py:2: FutureWarning: Downcasting behavior in `replace` is deprecated and will be removed in a future version. To retain the old behavior, explicitly call `result.infer_objects(copy=False)`. To opt-in to the future behavior, set `pd.set_option('future.no_silent_downcasting', True)`\n",
      "  df2.replace(['-'], np.nan, inplace=True)\n"
     ]
    }
   ],
   "source": [
    "#Replace \"-\" with NaN (according to the Statistical Office, \"-\" means either NaN or exactly zero)\n",
    "df2.replace(['-'], np.nan, inplace=True)"
   ]
  },
  {
   "cell_type": "code",
   "execution_count": 29,
   "id": "5c568cd2-5942-49d1-80ce-e14f685b796a",
   "metadata": {},
   "outputs": [],
   "source": [
    "#Keep only variables I want to analyze\n",
    "df2 = df2[['Country','Year','Import Value (Tsd. USD)','Import Weight (t)']]"
   ]
  },
  {
   "cell_type": "code",
   "execution_count": 30,
   "id": "c68de83e-30fe-404a-b6ed-487609cb7457",
   "metadata": {},
   "outputs": [],
   "source": [
    "#Drop rows with NAs\n",
    "df2.dropna(subset=['Import Value (Tsd. USD)', 'Import Weight (t)'], inplace=True)"
   ]
  },
  {
   "cell_type": "code",
   "execution_count": 31,
   "id": "d0b81f5a-6f92-4ff9-b5ba-17e97b572528",
   "metadata": {},
   "outputs": [],
   "source": [
    "#Cut off the \"(ab xxx)\"\n",
    "df2['Country'] = df2['Country'].str.replace(r\"\\s*\\(ab.*?\\)\",'',regex=True)"
   ]
  },
  {
   "cell_type": "code",
   "execution_count": 32,
   "id": "40df4616-e14c-41e4-8740-4f0f0122f42b",
   "metadata": {},
   "outputs": [],
   "source": [
    "#Translate country names from German to English\n",
    "unique_countries = df2['Country'].unique()\n",
    "translation_dict = {country: GoogleTranslator(source='de', target='en').translate(country) for country in unique_countries}\n",
    "df2['Country'] = df2['Country'].replace(translation_dict)\n",
    "df2.head(25)\n",
    "#Some corrections still to make manually\n",
    "df2['Country'] = df2['Country'].str.replace(r'(Christmas island)','Chistmas Island',regex=True)\n",
    "df2['Country'] = df2['Country'].str.replace(r'(Egypt)','Egypt, Arab Rep.',regex=True)\n",
    "df2['Country'] = df2['Country'].str.replace(r'(Federated states of micronesia)','Micronesia, Fed. Sts.',regex=True)\n",
    "df2['Country'] = df2['Country'].str.replace(r'(French-Polynesia)','French Polynesia',regex=True)\n",
    "df2['Country'] = df2['Country'].str.replace(r'(Jibuti)','Djibouti',regex=True)\n",
    "df2['Country'] = df2['Country'].str.replace(r'(United States of America)','United States',regex=True)\n",
    "df2['Country'] = df2['Country'].str.replace(r'(Vietnam)','Viet Nam',regex=True)\n",
    "df2['Country'] = df2['Country'].str.replace(r'(Czech Republic)','Czechia',regex=True)"
   ]
  },
  {
   "cell_type": "code",
   "execution_count": 33,
   "id": "c9a9641c-217c-47ae-8111-ff27358a6bb6",
   "metadata": {},
   "outputs": [],
   "source": [
    "#Filter from 2013 to 2023\n",
    "years = ['2013','2014','2015','2016','2017','2018','2019','2020','2021','2022','2023']\n",
    "df2 = df2[df2['Year'].isin(years)]"
   ]
  },
  {
   "cell_type": "code",
   "execution_count": 34,
   "id": "3d00d2b2-499a-457d-8bcb-74a7f33fbdb3",
   "metadata": {},
   "outputs": [],
   "source": [
    "#Group by Country (Import Value)\n",
    "df2['Import Value (Tsd. USD)'] = df2['Import Value (Tsd. USD)'].astype(float)\n",
    "df_importvalue = df2.groupby('Country')['Import Value (Tsd. USD)'].sum().to_frame().sort_values(by=\"Import Value (Tsd. USD)\",ascending=False)"
   ]
  },
  {
   "cell_type": "code",
   "execution_count": 35,
   "id": "c5548bcc-d093-4a6f-b480-91f35db81379",
   "metadata": {},
   "outputs": [],
   "source": [
    "#Group by Country (Import Weight)\n",
    "df2['Import Weight (t)'] = df2['Import Weight (t)'].astype(float)\n",
    "df_importweight = df2.groupby('Country')['Import Weight (t)'].sum().to_frame().sort_values(by=\"Import Weight (t)\",ascending=False)"
   ]
  },
  {
   "cell_type": "code",
   "execution_count": 36,
   "id": "dac1f067-1ef6-4992-ace9-ed0f7d671dc0",
   "metadata": {},
   "outputs": [],
   "source": [
    "#Merge datasets df_importvalue and df_importweight\n",
    "df_countries = df_importvalue.merge(df_importweight, left_on='Country', right_on='Country', how='outer')"
   ]
  },
  {
   "cell_type": "markdown",
   "id": "aa47c557-73d1-4726-a430-7dd9994cae44",
   "metadata": {},
   "source": [
    "STEP 8: SAVE THE DATASETS AS CSV"
   ]
  },
  {
   "cell_type": "code",
   "execution_count": 37,
   "id": "f8144cad-5a1a-4de2-87a0-cae066d307e3",
   "metadata": {
    "scrolled": true
   },
   "outputs": [],
   "source": [
    "df_countries.to_csv('fishes_countries.csv', index=True)"
   ]
  },
  {
   "cell_type": "markdown",
   "id": "f8e14ecf-b202-418e-846a-d605f53fc516",
   "metadata": {},
   "source": [
    "STEP 9: ADD GDP TO TABLE\n",
    "\n",
    "I'll use the data on GDP per Capita from the Worldbank, as of June 2025, https://data.worldbank.org/indicator/NY.GDP.PCAP.CD)"
   ]
  },
  {
   "cell_type": "code",
   "execution_count": 38,
   "id": "7049741c-43e9-4a5b-834f-e3497b984d97",
   "metadata": {},
   "outputs": [],
   "source": [
    "#Read data\n",
    "df_gdp = pd.read_csv('gdp_percapita_raw.csv',skiprows=3)"
   ]
  },
  {
   "cell_type": "code",
   "execution_count": 39,
   "id": "dc2a5a34-8b6c-404e-b3fd-2468bc7eba01",
   "metadata": {
    "scrolled": true
   },
   "outputs": [],
   "source": [
    "#Keep only the needed variables\n",
    "df_gdp = df_gdp[['Country Name','2023']]"
   ]
  },
  {
   "cell_type": "code",
   "execution_count": 40,
   "id": "27eb6677-9e0e-442f-afa8-e89058175d25",
   "metadata": {},
   "outputs": [],
   "source": [
    "#Rename the variables\n",
    "df_gdp.rename(columns={'Country Name': 'Country', '2023': 'GDP per Capita (2023)'},inplace=True)"
   ]
  },
  {
   "cell_type": "markdown",
   "id": "fdbf8bcd-7b80-49ce-adfa-6ee8225944c2",
   "metadata": {},
   "source": [
    "STEP 10: MERGE GDP WITH OTHER DATAFRAMES"
   ]
  },
  {
   "cell_type": "code",
   "execution_count": 41,
   "id": "bd3d773a-3292-4f3c-acd2-44c5ec9869f1",
   "metadata": {},
   "outputs": [],
   "source": [
    "df_countrygdp = df_countries.merge(df_gdp, left_on='Country', right_on='Country', how='left')"
   ]
  },
  {
   "cell_type": "markdown",
   "id": "be5f217b-d859-4bec-84e6-60f60c374862",
   "metadata": {},
   "source": [
    "STEP 11: SAVE MERGED DATASET TO CSV"
   ]
  },
  {
   "cell_type": "code",
   "execution_count": 42,
   "id": "629c1cec-3f2d-4f73-853d-9768192ef61d",
   "metadata": {},
   "outputs": [],
   "source": [
    "df_countrygdp.to_csv('fishes_countrygdp.csv', index=True)"
   ]
  }
 ],
 "metadata": {
  "kernelspec": {
   "display_name": "Python 3 (ipykernel)",
   "language": "python",
   "name": "python3"
  },
  "language_info": {
   "codemirror_mode": {
    "name": "ipython",
    "version": 3
   },
   "file_extension": ".py",
   "mimetype": "text/x-python",
   "name": "python",
   "nbconvert_exporter": "python",
   "pygments_lexer": "ipython3",
   "version": "3.12.10"
  }
 },
 "nbformat": 4,
 "nbformat_minor": 5
}
